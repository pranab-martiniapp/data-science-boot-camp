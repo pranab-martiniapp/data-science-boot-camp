{
  "nbformat": 4,
  "nbformat_minor": 0,
  "metadata": {
    "colab": {
      "provenance": [],
      "toc_visible": true,
      "authorship_tag": "ABX9TyOHQrWY7IF3iIr6aJ5WdGT/",
      "include_colab_link": true
    },
    "kernelspec": {
      "name": "python3",
      "display_name": "Python 3"
    },
    "language_info": {
      "name": "python"
    }
  },
  "cells": [
    {
      "cell_type": "markdown",
      "metadata": {
        "id": "view-in-github",
        "colab_type": "text"
      },
      "source": [
        "<a href=\"https://colab.research.google.com/github/pranab-martiniapp/data-science-boot-camp/blob/main/Projects/Project_3/SQL_1.ipynb\" target=\"_parent\"><img src=\"https://colab.research.google.com/assets/colab-badge.svg\" alt=\"Open In Colab\"/></a>"
      ]
    },
    {
      "cell_type": "markdown",
      "source": [
        "# Project 3 - SQLite"
      ],
      "metadata": {
        "id": "faddM3-9I7RE"
      }
    },
    {
      "cell_type": "markdown",
      "source": [
        "## Setup Imports"
      ],
      "metadata": {
        "id": "s18_mudEwrA5"
      }
    },
    {
      "cell_type": "code",
      "source": [
        "import sqlite3\n",
        "import pandas as pd\n",
        "import matplotlib.pyplot as plt"
      ],
      "metadata": {
        "id": "YOR1z3zVwtCT"
      },
      "execution_count": null,
      "outputs": []
    },
    {
      "cell_type": "markdown",
      "source": [
        "## Setup SQLite\n"
      ],
      "metadata": {
        "id": "GGJF1-C6Ik4r"
      }
    },
    {
      "cell_type": "code",
      "source": [
        "%%capture\n",
        "%%bash\n",
        "apt-get update\n",
        "apt-get install -y sqlite3"
      ],
      "metadata": {
        "id": "zS7HdiZYIqdf"
      },
      "execution_count": null,
      "outputs": []
    },
    {
      "cell_type": "code",
      "source": [
        "!sqlite3 --version"
      ],
      "metadata": {
        "colab": {
          "base_uri": "https://localhost:8080/"
        },
        "id": "HCpMZvpDIwe3",
        "outputId": "4215ec60-a3d0-47f8-eea6-af14798272d3"
      },
      "execution_count": null,
      "outputs": [
        {
          "output_type": "stream",
          "name": "stdout",
          "text": [
            "3.37.2 2022-01-06 13:25:41 872ba256cbf61d9290b571c0e6d82a20c224ca3ad82971edc46b29818d5dalt1\n"
          ]
        }
      ]
    },
    {
      "cell_type": "markdown",
      "source": [
        "## Setup DB"
      ],
      "metadata": {
        "id": "zot-lmEGIsWy"
      }
    },
    {
      "cell_type": "code",
      "source": [
        "%%bash\n",
        "[ -f chinook.zip ] ||\n",
        "  curl -s -O https://www.sqlitetutorial.net/wp-content/uploads/2018/03/chinook.zip\n",
        "unzip -l chinook.zip"
      ],
      "metadata": {
        "colab": {
          "base_uri": "https://localhost:8080/"
        },
        "id": "WNdQDSyKIuCA",
        "outputId": "4fa6aab4-b677-4ab9-d8c2-566adf700c66"
      },
      "execution_count": null,
      "outputs": [
        {
          "output_type": "stream",
          "name": "stdout",
          "text": [
            "Archive:  chinook.zip\n",
            "  Length      Date    Time    Name\n",
            "---------  ---------- -----   ----\n",
            "   884736  2015-11-29 10:53   chinook.db\n",
            "---------                     -------\n",
            "   884736                     1 file\n"
          ]
        }
      ]
    },
    {
      "cell_type": "code",
      "source": [
        "!unzip -u chinook.zip"
      ],
      "metadata": {
        "colab": {
          "base_uri": "https://localhost:8080/"
        },
        "id": "mG3GgFUeJKet",
        "outputId": "768a97f7-aa0c-4cda-c4f6-bce3d540c562"
      },
      "execution_count": null,
      "outputs": [
        {
          "output_type": "stream",
          "name": "stdout",
          "text": [
            "Archive:  chinook.zip\n",
            "  inflating: chinook.db              \n"
          ]
        }
      ]
    },
    {
      "cell_type": "code",
      "source": [
        "!ls -la"
      ],
      "metadata": {
        "colab": {
          "base_uri": "https://localhost:8080/"
        },
        "id": "hY_3vmoPIzq-",
        "outputId": "ce120bb1-db2f-4187-988b-7f6f18c94525"
      },
      "execution_count": null,
      "outputs": [
        {
          "output_type": "stream",
          "name": "stdout",
          "text": [
            "total 1180\n",
            "drwxr-xr-x 1 root root   4096 Apr  8 21:58 .\n",
            "drwxr-xr-x 1 root root   4096 Apr  8 21:57 ..\n",
            "-rw-r--r-- 1 root root 884736 Nov 29  2015 chinook.db\n",
            "-rw-r--r-- 1 root root 305596 Apr  8 21:58 chinook.zip\n",
            "drwxr-xr-x 4 root root   4096 Apr  5 13:20 .config\n",
            "drwxr-xr-x 1 root root   4096 Apr  5 13:21 sample_data\n"
          ]
        }
      ]
    },
    {
      "cell_type": "markdown",
      "source": [
        "## Questions"
      ],
      "metadata": {
        "id": "3inc7vf-JPTs"
      }
    },
    {
      "cell_type": "markdown",
      "source": [
        "### 1 - Customers not in the US"
      ],
      "metadata": {
        "id": "ZYelwACPJRnC"
      }
    },
    {
      "cell_type": "markdown",
      "source": [
        "Provide a query showing Customers (just their full names, customer ID and country) who are not in the US."
      ],
      "metadata": {
        "id": "0_xwWpFAJhoA"
      }
    },
    {
      "cell_type": "code",
      "source": [
        "%%script sqlite3 --column --header chinook.db\n",
        "SELECT\n",
        " CustomerId,\n",
        " FirstName || ' ' || LastName AS FullName,\n",
        " Country\n",
        "FROM\n",
        "\tcustomers\n",
        "WHERE\n",
        "\tcustomers.Country != 'USA'"
      ],
      "metadata": {
        "colab": {
          "base_uri": "https://localhost:8080/"
        },
        "id": "bx5Dg682JjDh",
        "outputId": "07134562-0a7b-4372-8d28-7de955280093"
      },
      "execution_count": null,
      "outputs": [
        {
          "output_type": "stream",
          "name": "stdout",
          "text": [
            "CustomerId  FullName               Country       \n",
            "----------  ---------------------  --------------\n",
            "1           Luís Gonçalves         Brazil        \n",
            "2           Leonie Köhler          Germany       \n",
            "3           François Tremblay      Canada        \n",
            "4           Bjørn Hansen           Norway        \n",
            "5           František Wichterlová  Czech Republic\n",
            "6           Helena Holý            Czech Republic\n",
            "7           Astrid Gruber          Austria       \n",
            "8           Daan Peeters           Belgium       \n",
            "9           Kara Nielsen           Denmark       \n",
            "10          Eduardo Martins        Brazil        \n",
            "11          Alexandre Rocha        Brazil        \n",
            "12          Roberto Almeida        Brazil        \n",
            "13          Fernanda Ramos         Brazil        \n",
            "14          Mark Philips           Canada        \n",
            "15          Jennifer Peterson      Canada        \n",
            "29          Robert Brown           Canada        \n",
            "30          Edward Francis         Canada        \n",
            "31          Martha Silk            Canada        \n",
            "32          Aaron Mitchell         Canada        \n",
            "33          Ellie Sullivan         Canada        \n",
            "34          João Fernandes         Portugal      \n",
            "35          Madalena Sampaio       Portugal      \n",
            "36          Hannah Schneider       Germany       \n",
            "37          Fynn Zimmermann        Germany       \n",
            "38          Niklas Schröder        Germany       \n",
            "39          Camille Bernard        France        \n",
            "40          Dominique Lefebvre     France        \n",
            "41          Marc Dubois            France        \n",
            "42          Wyatt Girard           France        \n",
            "43          Isabelle Mercier       France        \n",
            "44          Terhi Hämäläinen       Finland       \n",
            "45          Ladislav Kovács        Hungary       \n",
            "46          Hugh O'Reilly          Ireland       \n",
            "47          Lucas Mancini          Italy         \n",
            "48          Johannes Van der Berg  Netherlands   \n",
            "49          Stanisław Wójcik       Poland        \n",
            "50          Enrique Muñoz          Spain         \n",
            "51          Joakim Johansson       Sweden        \n",
            "52          Emma Jones             United Kingdom\n",
            "53          Phil Hughes            United Kingdom\n",
            "54          Steve Murray           United Kingdom\n",
            "55          Mark Taylor            Australia     \n",
            "56          Diego Gutiérrez        Argentina     \n",
            "57          Luis Rojas             Chile         \n",
            "58          Manoj Pareek           India         \n",
            "59          Puja Srivastava        India         \n"
          ]
        }
      ]
    },
    {
      "cell_type": "markdown",
      "source": [
        "### 2 - Customers from Brazil"
      ],
      "metadata": {
        "id": "D21zMYV1KAoU"
      }
    },
    {
      "cell_type": "markdown",
      "source": [
        "Provide a query only showing the Customers from Brazil."
      ],
      "metadata": {
        "id": "5-BZ47DeKDdy"
      }
    },
    {
      "cell_type": "code",
      "source": [
        "%%script sqlite3 --column --header chinook.db\n",
        "SELECT\n",
        " CustomerId,\n",
        " FirstName || ' ' || LastName AS FullName,\n",
        " Country\n",
        "FROM\n",
        "\tcustomers\n",
        "WHERE\n",
        "\tcustomers.Country == 'Brazil'"
      ],
      "metadata": {
        "colab": {
          "base_uri": "https://localhost:8080/"
        },
        "id": "KvSjhk4WKF60",
        "outputId": "cdbb42fe-96da-440a-87ed-0576d80ab19b"
      },
      "execution_count": null,
      "outputs": [
        {
          "output_type": "stream",
          "name": "stdout",
          "text": [
            "CustomerId  FullName         Country\n",
            "----------  ---------------  -------\n",
            "1           Luís Gonçalves   Brazil \n",
            "10          Eduardo Martins  Brazil \n",
            "11          Alexandre Rocha  Brazil \n",
            "12          Roberto Almeida  Brazil \n",
            "13          Fernanda Ramos   Brazil \n"
          ]
        }
      ]
    },
    {
      "cell_type": "markdown",
      "source": [
        "### 3 - Invoices from Brazil"
      ],
      "metadata": {
        "id": "o44K2A-aLCmp"
      }
    },
    {
      "cell_type": "markdown",
      "source": [
        "Provide a query showing the Invoices of customers who are from Brazil. The resultant table should show the customer's full name, Invoice ID, Date of the invoice and billing country."
      ],
      "metadata": {
        "id": "4qkX5h62LFK2"
      }
    },
    {
      "cell_type": "code",
      "source": [
        "%%script sqlite3 --column --header chinook.db\n",
        "WITH\n",
        "\tcust AS (\n",
        "\t  SELECT\n",
        "\t\tCustomerId AS CustID,\n",
        "\t\tFirstName || ' ' || LastName AS FullName\n",
        "\t  FROM customers\n",
        "\t),\n",
        "\tinv AS (\n",
        "\t\tSELECT\n",
        "\t\t\tInvoiceId,\n",
        "\t\t\tCustomerId AS InvCustID,\n",
        "\t\t\tstrftime('%m-%d-%Y', InvoiceDate) AS InvDate,\n",
        "\t\t\tBillingCountry\n",
        "\t\tFROM\n",
        "      invoices\n",
        "\t\tWHERE\n",
        "      BillingCountry = 'Brazil'\n",
        "\t)\n",
        "SELECT\n",
        "  InvoiceId,\n",
        "  FullName,\n",
        "  InvDate,\n",
        "  BillingCountry\n",
        "FROM\n",
        "  cust\n",
        "JOIN\n",
        "  inv ON cust.CustID = inv.InvCustID"
      ],
      "metadata": {
        "colab": {
          "base_uri": "https://localhost:8080/"
        },
        "id": "5esRi1O0RPiq",
        "outputId": "cfe1f014-fe16-4d8e-9700-9f4e2cb1bfaa"
      },
      "execution_count": null,
      "outputs": [
        {
          "output_type": "stream",
          "name": "stdout",
          "text": [
            "InvoiceId  FullName         InvDate     BillingCountry\n",
            "---------  ---------------  ----------  --------------\n",
            "25         Eduardo Martins  04-09-2009  Brazil        \n",
            "34         Roberto Almeida  05-23-2009  Brazil        \n",
            "35         Fernanda Ramos   06-05-2009  Brazil        \n",
            "57         Alexandre Rocha  09-06-2009  Brazil        \n",
            "58         Fernanda Ramos   09-07-2009  Brazil        \n",
            "68         Alexandre Rocha  10-17-2009  Brazil        \n",
            "80         Fernanda Ramos   12-10-2009  Brazil        \n",
            "98         Luís Gonçalves   03-11-2010  Brazil        \n",
            "121        Luís Gonçalves   06-13-2010  Brazil        \n",
            "123        Alexandre Rocha  06-17-2010  Brazil        \n",
            "132        Fernanda Ramos   07-31-2010  Brazil        \n",
            "143        Luís Gonçalves   09-15-2010  Brazil        \n",
            "154        Eduardo Martins  11-14-2010  Brazil        \n",
            "155        Roberto Almeida  11-14-2010  Brazil        \n",
            "166        Roberto Almeida  12-25-2010  Brazil        \n",
            "177        Eduardo Martins  02-16-2011  Brazil        \n",
            "195        Luís Gonçalves   05-06-2011  Brazil        \n",
            "199        Eduardo Martins  05-21-2011  Brazil        \n",
            "221        Roberto Almeida  08-25-2011  Brazil        \n",
            "251        Eduardo Martins  01-09-2012  Brazil        \n",
            "252        Alexandre Rocha  01-22-2012  Brazil        \n",
            "253        Fernanda Ramos   01-22-2012  Brazil        \n",
            "264        Fernanda Ramos   03-03-2012  Brazil        \n",
            "275        Alexandre Rocha  04-25-2012  Brazil        \n",
            "297        Alexandre Rocha  07-28-2012  Brazil        \n",
            "316        Luís Gonçalves   10-27-2012  Brazil        \n",
            "319        Fernanda Ramos   11-01-2012  Brazil        \n",
            "327        Luís Gonçalves   12-07-2012  Brazil        \n",
            "349        Alexandre Rocha  03-18-2013  Brazil        \n",
            "350        Roberto Almeida  03-31-2013  Brazil        \n",
            "372        Eduardo Martins  07-02-2013  Brazil        \n",
            "373        Roberto Almeida  07-03-2013  Brazil        \n",
            "382        Luís Gonçalves   08-07-2013  Brazil        \n",
            "383        Eduardo Martins  08-12-2013  Brazil        \n",
            "395        Roberto Almeida  10-05-2013  Brazil        \n"
          ]
        }
      ]
    },
    {
      "cell_type": "markdown",
      "source": [
        "### 4 - Sales Agent Employees"
      ],
      "metadata": {
        "id": "jhYF0ZEUfPdl"
      }
    },
    {
      "cell_type": "markdown",
      "source": [
        "Provide a query showing only the Employees who are Sales Agents."
      ],
      "metadata": {
        "id": "_Q-cVcWWfTk2"
      }
    },
    {
      "cell_type": "code",
      "source": [
        "%%script sqlite3 --column --header chinook.db\n",
        "SELECT\n",
        "\tEmployeeId,\n",
        "\tFirstName || ' ' || LastName AS FullName,\n",
        "\tTitle\n",
        "FROM\n",
        "  employees\n",
        "WHERE\n",
        "  Title LIKE '%Agent%'"
      ],
      "metadata": {
        "colab": {
          "base_uri": "https://localhost:8080/"
        },
        "id": "RzIifcYqfWgS",
        "outputId": "dec19be2-4317-4c93-d96d-b93fc20bf2e3"
      },
      "execution_count": null,
      "outputs": [
        {
          "output_type": "stream",
          "name": "stdout",
          "text": [
            "EmployeeId  FullName       Title              \n",
            "----------  -------------  -------------------\n",
            "3           Jane Peacock   Sales Support Agent\n",
            "4           Margaret Park  Sales Support Agent\n",
            "5           Steve Johnson  Sales Support Agent\n"
          ]
        }
      ]
    },
    {
      "cell_type": "markdown",
      "source": [
        "### 5 - Unique Billing Countries"
      ],
      "metadata": {
        "id": "9lbquuOygj4F"
      }
    },
    {
      "cell_type": "markdown",
      "source": [
        "Provide a query showing a unique list of billing countries from the Invoice table."
      ],
      "metadata": {
        "id": "f-jWUy8xgm2g"
      }
    },
    {
      "cell_type": "code",
      "source": [
        "%%script sqlite3 --column --header chinook.db\n",
        "SELECT DISTINCT BillingCountry\n",
        "FROM invoices"
      ],
      "metadata": {
        "colab": {
          "base_uri": "https://localhost:8080/"
        },
        "id": "wjwKGGjcgnDd",
        "outputId": "f95628ae-e401-44ac-aea9-b318f97cffc8"
      },
      "execution_count": null,
      "outputs": [
        {
          "output_type": "stream",
          "name": "stdout",
          "text": [
            "BillingCountry\n",
            "--------------\n",
            "Germany       \n",
            "Norway        \n",
            "Belgium       \n",
            "Canada        \n",
            "USA           \n",
            "France        \n",
            "Ireland       \n",
            "United Kingdom\n",
            "Australia     \n",
            "Chile         \n",
            "India         \n",
            "Brazil        \n",
            "Portugal      \n",
            "Netherlands   \n",
            "Spain         \n",
            "Sweden        \n",
            "Czech Republic\n",
            "Finland       \n",
            "Denmark       \n",
            "Italy         \n",
            "Poland        \n",
            "Austria       \n",
            "Hungary       \n",
            "Argentina     \n"
          ]
        }
      ]
    },
    {
      "cell_type": "markdown",
      "source": [
        "### 6 - Invoices by Sales Agent"
      ],
      "metadata": {
        "id": "wydSN3EyhOeM"
      }
    },
    {
      "cell_type": "markdown",
      "source": [
        "Provide a query that shows the invoices associated with each sales agent. The resultant table should include the Sales Agent's full name."
      ],
      "metadata": {
        "id": "wymFSenkhOPJ"
      }
    },
    {
      "cell_type": "code",
      "source": [
        "%%script sqlite3 --column --header chinook.db\n",
        "WITH\n",
        "rep AS (\n",
        "  SELECT\n",
        "\tEmployeeId,\n",
        "\tFirstName || ' ' || LastName AS RepFullName\n",
        "  FROM\n",
        "    employees\n",
        "),\n",
        "inv AS (\n",
        "\tSELECT\n",
        "\t\tInvoiceId,\n",
        "\t\tCustomerId AS InvoiceCustomerId,\n",
        "\t\tinvoices.Total AS InvoiceTotal\n",
        "\tFROM\n",
        "    invoices\n",
        "),\n",
        "cust AS (\n",
        "  SELECT\n",
        "\t  CustomerID,\n",
        "\t  FirstName || ' ' || LastName AS CustomerFullName,\n",
        "\t  SupportRepID\n",
        "  FROM\n",
        "    customers\n",
        ")\n",
        "SELECT\n",
        "  InvoiceId,\n",
        "  CustomerFullName,\n",
        "  InvoiceTotal,\n",
        "  RepFullName\n",
        "FROM\n",
        "  inv\n",
        "JOIN\n",
        "  cust ON inv.InvoiceCustomerId = cust.CustomerID\n",
        "JOIN\n",
        "  rep ON cust.SupportRepID = rep.EmployeeId\n",
        "ORDER BY\n",
        "  rep.EmployeeId, inv.InvoiceTotal DESC"
      ],
      "metadata": {
        "colab": {
          "base_uri": "https://localhost:8080/"
        },
        "id": "vXjbMUoMhN_g",
        "outputId": "42b0bb70-55e8-404c-b30b-3eb83c3170c7"
      },
      "execution_count": null,
      "outputs": [
        {
          "output_type": "stream",
          "name": "stdout",
          "text": [
            "InvoiceId  CustomerFullName       InvoiceTotal  RepFullName  \n",
            "---------  ---------------------  ------------  -------------\n",
            "96         Ladislav Kovács        21.86         Jane Peacock \n",
            "194        Hugh O'Reilly          21.86         Jane Peacock \n",
            "313        Isabelle Mercier       16.86         Jane Peacock \n",
            "103        Frank Ralston          15.86         Jane Peacock \n",
            "193        Fynn Zimmermann        14.91         Jane Peacock \n",
            "327        Luís Gonçalves         13.86         Jane Peacock \n",
            "110        François Tremblay      13.86         Jane Peacock \n",
            "166        Roberto Almeida        13.86         Jane Peacock \n",
            "47         Jennifer Peterson      13.86         Jane Peacock \n",
            "341        Michelle Brooks        13.86         Jane Peacock \n",
            "26         Tim Goyer              13.86         Jane Peacock \n",
            "180        Robert Brown           13.86         Jane Peacock \n",
            "278        Edward Francis         13.86         Jane Peacock \n",
            "159        Ellie Sullivan         13.86         Jane Peacock \n",
            "138        Fynn Zimmermann        13.86         Jane Peacock \n",
            "236        Niklas Schröder        13.86         Jane Peacock \n",
            "215        Wyatt Girard           13.86         Jane Peacock \n",
            "411        Terhi Hämäläinen       13.86         Jane Peacock \n",
            "369        Emma Jones             13.86         Jane Peacock \n",
            "54         Phil Hughes            13.86         Jane Peacock \n",
            "131        Manoj Pareek           13.86         Jane Peacock \n",
            "229        Puja Srivastava        13.86         Jane Peacock \n",
            "102        Jennifer Peterson      9.91          Jane Peacock \n",
            "382        Luís Gonçalves         8.91          Jane Peacock \n",
            "165        François Tremblay      8.91          Jane Peacock \n",
            "221        Roberto Almeida        8.91          Jane Peacock \n",
            "396        Michelle Brooks        8.91          Jane Peacock \n",
            "81         Tim Goyer              8.91          Jane Peacock \n",
            "158        Frank Ralston          8.91          Jane Peacock \n",
            "235        Robert Brown           8.91          Jane Peacock \n",
            "333        Edward Francis         8.91          Jane Peacock \n",
            "214        Ellie Sullivan         8.91          Jane Peacock \n",
            "291        Niklas Schröder        8.91          Jane Peacock \n",
            "270        Wyatt Girard           8.91          Jane Peacock \n",
            "368        Isabelle Mercier       8.91          Jane Peacock \n",
            "53         Terhi Hämäläinen       8.91          Jane Peacock \n",
            "151        Ladislav Kovács        8.91          Jane Peacock \n",
            "249        Hugh O'Reilly          8.91          Jane Peacock \n",
            "11         Emma Jones             8.91          Jane Peacock \n",
            "109        Phil Hughes            8.91          Jane Peacock \n",
            "186        Manoj Pareek           8.91          Jane Peacock \n",
            "284        Puja Srivastava        8.91          Jane Peacock \n",
            "310        Frank Ralston          7.96          Jane Peacock \n",
            "205        Terhi Hämäläinen       7.96          Jane Peacock \n",
            "143        Luís Gonçalves         5.94          Jane Peacock \n",
            "339        François Tremblay      5.94          Jane Peacock \n",
            "395        Roberto Almeida        5.94          Jane Peacock \n",
            "276        Jennifer Peterson      5.94          Jane Peacock \n",
            "157        Michelle Brooks        5.94          Jane Peacock \n",
            "255        Tim Goyer              5.94          Jane Peacock \n",
            "332        Frank Ralston          5.94          Jane Peacock \n",
            "409        Robert Brown           5.94          Jane Peacock \n",
            "94         Edward Francis         5.94          Jane Peacock \n",
            "388        Ellie Sullivan         5.94          Jane Peacock \n",
            "367        Fynn Zimmermann        5.94          Jane Peacock \n",
            "52         Niklas Schröder        5.94          Jane Peacock \n",
            "31         Wyatt Girard           5.94          Jane Peacock \n",
            "129        Isabelle Mercier       5.94          Jane Peacock \n",
            "227        Terhi Hämäläinen       5.94          Jane Peacock \n",
            "325        Ladislav Kovács        5.94          Jane Peacock \n",
            "10         Hugh O'Reilly          5.94          Jane Peacock \n",
            "185        Emma Jones             5.94          Jane Peacock \n",
            "283        Phil Hughes            5.94          Jane Peacock \n",
            "360        Manoj Pareek           5.94          Jane Peacock \n",
            "45         Puja Srivastava        5.94          Jane Peacock \n",
            "98         Luís Gonçalves         3.98          Jane Peacock \n",
            "99         François Tremblay      3.98          Jane Peacock \n",
            "204        Wyatt Girard           3.98          Jane Peacock \n",
            "121        Luís Gonçalves         3.96          Jane Peacock \n",
            "317        François Tremblay      3.96          Jane Peacock \n",
            "373        Roberto Almeida        3.96          Jane Peacock \n",
            "254        Jennifer Peterson      3.96          Jane Peacock \n",
            "135        Michelle Brooks        3.96          Jane Peacock \n",
            "233        Tim Goyer              3.96          Jane Peacock \n",
            "387        Robert Brown           3.96          Jane Peacock \n",
            "72         Edward Francis         3.96          Jane Peacock \n",
            "366        Ellie Sullivan         3.96          Jane Peacock \n",
            "345        Fynn Zimmermann        3.96          Jane Peacock \n",
            "30         Niklas Schröder        3.96          Jane Peacock \n",
            "9          Wyatt Girard           3.96          Jane Peacock \n",
            "107        Isabelle Mercier       3.96          Jane Peacock \n",
            "303        Ladislav Kovács        3.96          Jane Peacock \n",
            "401        Hugh O'Reilly          3.96          Jane Peacock \n",
            "163        Emma Jones             3.96          Jane Peacock \n",
            "261        Phil Hughes            3.96          Jane Peacock \n",
            "338        Manoj Pareek           3.96          Jane Peacock \n",
            "23         Puja Srivastava        3.96          Jane Peacock \n",
            "307        Tim Goyer              1.99          Jane Peacock \n",
            "412        Manoj Pareek           1.99          Jane Peacock \n",
            "97         Puja Srivastava        1.99          Jane Peacock \n",
            "316        Luís Gonçalves         1.98          Jane Peacock \n",
            "294        François Tremblay      1.98          Jane Peacock \n",
            "155        Roberto Almeida        1.98          Jane Peacock \n",
            "350        Roberto Almeida        1.98          Jane Peacock \n",
            "36         Jennifer Peterson      1.98          Jane Peacock \n",
            "231        Jennifer Peterson      1.98          Jane Peacock \n",
            "112        Michelle Brooks        1.98          Jane Peacock \n",
            "330        Michelle Brooks        1.98          Jane Peacock \n",
            "15         Tim Goyer              1.98          Jane Peacock \n",
            "210        Tim Goyer              1.98          Jane Peacock \n",
            "92         Frank Ralston          1.98          Jane Peacock \n",
            "287        Frank Ralston          1.98          Jane Peacock \n",
            "169        Robert Brown           1.98          Jane Peacock \n",
            "364        Robert Brown           1.98          Jane Peacock \n",
            "49         Edward Francis         1.98          Jane Peacock \n",
            "267        Edward Francis         1.98          Jane Peacock \n",
            "148        Ellie Sullivan         1.98          Jane Peacock \n",
            "343        Ellie Sullivan         1.98          Jane Peacock \n",
            "127        Fynn Zimmermann        1.98          Jane Peacock \n",
            "322        Fynn Zimmermann        1.98          Jane Peacock \n",
            "7          Niklas Schröder        1.98          Jane Peacock \n",
            "225        Niklas Schröder        1.98          Jane Peacock \n",
            "399        Wyatt Girard           1.98          Jane Peacock \n",
            "84         Isabelle Mercier       1.98          Jane Peacock \n",
            "302        Isabelle Mercier       1.98          Jane Peacock \n",
            "182        Terhi Hämäläinen       1.98          Jane Peacock \n",
            "400        Terhi Hämäläinen       1.98          Jane Peacock \n",
            "85         Ladislav Kovács        1.98          Jane Peacock \n",
            "280        Ladislav Kovács        1.98          Jane Peacock \n",
            "183        Hugh O'Reilly          1.98          Jane Peacock \n",
            "378        Hugh O'Reilly          1.98          Jane Peacock \n",
            "140        Emma Jones             1.98          Jane Peacock \n",
            "358        Emma Jones             1.98          Jane Peacock \n",
            "43         Phil Hughes            1.98          Jane Peacock \n",
            "238        Phil Hughes            1.98          Jane Peacock \n",
            "120        Manoj Pareek           1.98          Jane Peacock \n",
            "315        Manoj Pareek           1.98          Jane Peacock \n",
            "218        Puja Srivastava        1.98          Jane Peacock \n",
            "195        Luís Gonçalves         0.99          Jane Peacock \n",
            "391        François Tremblay      0.99          Jane Peacock \n",
            "34         Roberto Almeida        0.99          Jane Peacock \n",
            "328        Jennifer Peterson      0.99          Jane Peacock \n",
            "209        Michelle Brooks        0.99          Jane Peacock \n",
            "384        Frank Ralston          0.99          Jane Peacock \n",
            "48         Robert Brown           0.99          Jane Peacock \n",
            "146        Edward Francis         0.99          Jane Peacock \n",
            "27         Ellie Sullivan         0.99          Jane Peacock \n",
            "6          Fynn Zimmermann        0.99          Jane Peacock \n",
            "104        Niklas Schröder        0.99          Jane Peacock \n",
            "83         Wyatt Girard           0.99          Jane Peacock \n",
            "181        Isabelle Mercier       0.99          Jane Peacock \n",
            "279        Terhi Hämäläinen       0.99          Jane Peacock \n",
            "377        Ladislav Kovács        0.99          Jane Peacock \n",
            "62         Hugh O'Reilly          0.99          Jane Peacock \n",
            "237        Emma Jones             0.99          Jane Peacock \n",
            "335        Phil Hughes            0.99          Jane Peacock \n",
            "299        Richard Cunningham     23.86         Margaret Park\n",
            "306        František Wichterlová  16.86         Margaret Park\n",
            "208        Bjørn Hansen           15.86         Margaret Park\n",
            "187        Daan Peeters           13.86         Margaret Park\n",
            "285        Kara Nielsen           13.86         Margaret Park\n",
            "383        Eduardo Martins        13.86         Margaret Park\n",
            "264        Fernanda Ramos         13.86         Margaret Park\n",
            "145        Frank Harris           13.86         Margaret Park\n",
            "124        Dan Miller             13.86         Margaret Park\n",
            "320        Heather Leacock        13.86         Margaret Park\n",
            "5          John Gordon            13.86         Margaret Park\n",
            "397        Patrick Gray           13.86         Margaret Park\n",
            "61         Aaron Mitchell         13.86         Margaret Park\n",
            "257        João Fernandes         13.86         Margaret Park\n",
            "355        Madalena Sampaio       13.86         Margaret Park\n",
            "334        Camille Bernard        13.86         Margaret Park\n",
            "19         Dominique Lefebvre     13.86         Margaret Park\n",
            "75         Stanisław Wójcik       13.86         Margaret Park\n",
            "250        Mark Taylor            13.86         Margaret Park\n",
            "348        Diego Gutiérrez        13.86         Margaret Park\n",
            "312        João Fernandes         10.91         Margaret Park\n",
            "263        Bjørn Hansen           8.91          Margaret Park\n",
            "361        František Wichterlová  8.91          Margaret Park\n",
            "242        Daan Peeters           8.91          Margaret Park\n",
            "340        Kara Nielsen           8.91          Margaret Park\n",
            "25         Eduardo Martins        8.91          Margaret Park\n",
            "319        Fernanda Ramos         8.91          Margaret Park\n",
            "200        Frank Harris           8.91          Margaret Park\n",
            "179        Dan Miller             8.91          Margaret Park\n",
            "375        Heather Leacock        8.91          Margaret Park\n",
            "60         John Gordon            8.91          Margaret Park\n",
            "354        Richard Cunningham     8.91          Margaret Park\n",
            "39         Patrick Gray           8.91          Margaret Park\n",
            "116        Aaron Mitchell         8.91          Margaret Park\n",
            "410        Madalena Sampaio       8.91          Margaret Park\n",
            "389        Camille Bernard        8.91          Margaret Park\n",
            "74         Dominique Lefebvre     8.91          Margaret Park\n",
            "130        Stanisław Wójcik       8.91          Margaret Park\n",
            "305        Mark Taylor            8.91          Margaret Park\n",
            "403        Diego Gutiérrez        8.91          Margaret Park\n",
            "24         Bjørn Hansen           5.94          Margaret Park\n",
            "122        František Wichterlová  5.94          Margaret Park\n",
            "3          Daan Peeters           5.94          Margaret Park\n",
            "101        Kara Nielsen           5.94          Margaret Park\n",
            "199        Eduardo Martins        5.94          Margaret Park\n",
            "80         Fernanda Ramos         5.94          Margaret Park\n",
            "374        Frank Harris           5.94          Margaret Park\n",
            "353        Dan Miller             5.94          Margaret Park\n",
            "136        Heather Leacock        5.94          Margaret Park\n",
            "234        John Gordon            5.94          Margaret Park\n",
            "115        Richard Cunningham     5.94          Margaret Park\n",
            "213        Patrick Gray           5.94          Margaret Park\n",
            "290        Aaron Mitchell         5.94          Margaret Park\n",
            "73         João Fernandes         5.94          Margaret Park\n",
            "171        Madalena Sampaio       5.94          Margaret Park\n",
            "150        Camille Bernard        5.94          Margaret Park\n",
            "248        Dominique Lefebvre     5.94          Margaret Park\n",
            "304        Stanisław Wójcik       5.94          Margaret Park\n",
            "66         Mark Taylor            5.94          Margaret Park\n",
            "164        Diego Gutiérrez        5.94          Margaret Park\n",
            "308        Dan Miller             3.98          Margaret Park\n",
            "309        Heather Leacock        3.98          Margaret Park\n",
            "2          Bjørn Hansen           3.96          Margaret Park\n",
            "100        František Wichterlová  3.96          Margaret Park\n",
            "394        Daan Peeters           3.96          Margaret Park\n",
            "79         Kara Nielsen           3.96          Margaret Park\n",
            "177        Eduardo Martins        3.96          Margaret Park\n",
            "58         Fernanda Ramos         3.96          Margaret Park\n",
            "352        Frank Harris           3.96          Margaret Park\n",
            "331        Dan Miller             3.96          Margaret Park\n",
            "114        Heather Leacock        3.96          Margaret Park\n",
            "212        John Gordon            3.96          Margaret Park\n",
            "93         Richard Cunningham     3.96          Margaret Park\n",
            "191        Patrick Gray           3.96          Margaret Park\n",
            "268        Aaron Mitchell         3.96          Margaret Park\n",
            "51         João Fernandes         3.96          Margaret Park\n",
            "149        Madalena Sampaio       3.96          Margaret Park\n",
            "128        Camille Bernard        3.96          Margaret Park\n",
            "226        Dominique Lefebvre     3.96          Margaret Park\n",
            "282        Stanisław Wójcik       3.96          Margaret Park\n",
            "44         Mark Taylor            3.96          Margaret Park\n",
            "142        Diego Gutiérrez        3.96          Margaret Park\n",
            "203        Dominique Lefebvre     2.98          Margaret Park\n",
            "202        Camille Bernard        1.99          Margaret Park\n",
            "197        Bjørn Hansen           1.98          Margaret Park\n",
            "392        Bjørn Hansen           1.98          Margaret Park\n",
            "77         František Wichterlová  1.98          Margaret Park\n",
            "295        František Wichterlová  1.98          Margaret Park\n",
            "176        Daan Peeters           1.98          Margaret Park\n",
            "371        Daan Peeters           1.98          Margaret Park\n",
            "56         Kara Nielsen           1.98          Margaret Park\n",
            "274        Kara Nielsen           1.98          Margaret Park\n",
            "154        Eduardo Martins        1.98          Margaret Park\n",
            "372        Eduardo Martins        1.98          Margaret Park\n",
            "35         Fernanda Ramos         1.98          Margaret Park\n",
            "253        Fernanda Ramos         1.98          Margaret Park\n",
            "134        Frank Harris           1.98          Margaret Park\n",
            "329        Frank Harris           1.98          Margaret Park\n",
            "113        Dan Miller             1.98          Margaret Park\n",
            "91         Heather Leacock        1.98          Margaret Park\n",
            "189        John Gordon            1.98          Margaret Park\n",
            "407        John Gordon            1.98          Margaret Park\n",
            "70         Richard Cunningham     1.98          Margaret Park\n",
            "288        Richard Cunningham     1.98          Margaret Park\n",
            "168        Patrick Gray           1.98          Margaret Park\n",
            "386        Patrick Gray           1.98          Margaret Park\n",
            "50         Aaron Mitchell         1.98          Margaret Park\n",
            "245        Aaron Mitchell         1.98          Margaret Park\n",
            "28         João Fernandes         1.98          Margaret Park\n",
            "246        João Fernandes         1.98          Margaret Park\n",
            "126        Madalena Sampaio       1.98          Margaret Park\n",
            "344        Madalena Sampaio       1.98          Margaret Park\n",
            "105        Camille Bernard        1.98          Margaret Park\n",
            "323        Camille Bernard        1.98          Margaret Park\n",
            "8          Dominique Lefebvre     1.98          Margaret Park\n",
            "64         Stanisław Wójcik       1.98          Margaret Park\n",
            "259        Stanisław Wójcik       1.98          Margaret Park\n",
            "21         Mark Taylor            1.98          Margaret Park\n",
            "239        Mark Taylor            1.98          Margaret Park\n",
            "119        Diego Gutiérrez        1.98          Margaret Park\n",
            "337        Diego Gutiérrez        1.98          Margaret Park\n",
            "76         Bjørn Hansen           0.99          Margaret Park\n",
            "174        František Wichterlová  0.99          Margaret Park\n",
            "55         Daan Peeters           0.99          Margaret Park\n",
            "153        Kara Nielsen           0.99          Margaret Park\n",
            "251        Eduardo Martins        0.99          Margaret Park\n",
            "132        Fernanda Ramos         0.99          Margaret Park\n",
            "13         Frank Harris           0.99          Margaret Park\n",
            "405        Dan Miller             0.99          Margaret Park\n",
            "188        Heather Leacock        0.99          Margaret Park\n",
            "286        John Gordon            0.99          Margaret Park\n",
            "167        Richard Cunningham     0.99          Margaret Park\n",
            "265        Patrick Gray           0.99          Margaret Park\n",
            "342        Aaron Mitchell         0.99          Margaret Park\n",
            "125        João Fernandes         0.99          Margaret Park\n",
            "223        Madalena Sampaio       0.99          Margaret Park\n",
            "300        Dominique Lefebvre     0.99          Margaret Park\n",
            "356        Stanisław Wójcik       0.99          Margaret Park\n",
            "118        Mark Taylor            0.99          Margaret Park\n",
            "216        Diego Gutiérrez        0.99          Margaret Park\n",
            "404        Helena Holý            25.86         Steve Johnson\n",
            "89         Astrid Gruber          18.86         Steve Johnson\n",
            "201        Victor Stevens         18.86         Steve Johnson\n",
            "88         Luis Rojas             17.91         Steve Johnson\n",
            "12         Leonie Köhler          13.86         Steve Johnson\n",
            "68         Alexandre Rocha        13.86         Steve Johnson\n",
            "362        Mark Philips           13.86         Steve Johnson\n",
            "243        Jack Smith             13.86         Steve Johnson\n",
            "222        Kathy Chase            13.86         Steve Johnson\n",
            "82         Julia Barnett          13.86         Steve Johnson\n",
            "376        Martha Silk            13.86         Steve Johnson\n",
            "40         Hannah Schneider       13.86         Steve Johnson\n",
            "117        Marc Dubois            13.86         Steve Johnson\n",
            "292        Lucas Mancini          13.86         Steve Johnson\n",
            "390        Johannes Van der Berg  13.86         Steve Johnson\n",
            "173        Enrique Muñoz          13.86         Steve Johnson\n",
            "271        Joakim Johansson       13.86         Steve Johnson\n",
            "152        Steve Murray           13.86         Steve Johnson\n",
            "33         Luis Rojas             13.86         Steve Johnson\n",
            "311        Julia Barnett          11.94         Steve Johnson\n",
            "298        Jack Smith             10.91         Steve Johnson\n",
            "206        Johannes Van der Berg  8.94          Steve Johnson\n",
            "67         Leonie Köhler          8.91          Steve Johnson\n",
            "46         Helena Holý            8.91          Steve Johnson\n",
            "144        Astrid Gruber          8.91          Steve Johnson\n",
            "123        Alexandre Rocha        8.91          Steve Johnson\n",
            "4          Mark Philips           8.91          Steve Johnson\n",
            "277        Kathy Chase            8.91          Steve Johnson\n",
            "256        Victor Stevens         8.91          Steve Johnson\n",
            "137        Julia Barnett          8.91          Steve Johnson\n",
            "18         Martha Silk            8.91          Steve Johnson\n",
            "95         Hannah Schneider       8.91          Steve Johnson\n",
            "172        Marc Dubois            8.91          Steve Johnson\n",
            "347        Lucas Mancini          8.91          Steve Johnson\n",
            "32         Johannes Van der Berg  8.91          Steve Johnson\n",
            "228        Enrique Muñoz          8.91          Steve Johnson\n",
            "326        Joakim Johansson       8.91          Steve Johnson\n",
            "207        Steve Murray           8.91          Steve Johnson\n",
            "87         Joakim Johansson       6.94          Steve Johnson\n",
            "241        Leonie Köhler          5.94          Steve Johnson\n",
            "220        Helena Holý            5.94          Steve Johnson\n",
            "318        Astrid Gruber          5.94          Steve Johnson\n",
            "297        Alexandre Rocha        5.94          Steve Johnson\n",
            "178        Mark Philips           5.94          Steve Johnson\n",
            "59         Jack Smith             5.94          Steve Johnson\n",
            "38         Kathy Chase            5.94          Steve Johnson\n",
            "17         Victor Stevens         5.94          Steve Johnson\n",
            "192        Martha Silk            5.94          Steve Johnson\n",
            "269        Hannah Schneider       5.94          Steve Johnson\n",
            "346        Marc Dubois            5.94          Steve Johnson\n",
            "108        Lucas Mancini          5.94          Steve Johnson\n",
            "402        Enrique Muñoz          5.94          Steve Johnson\n",
            "381        Steve Murray           5.94          Steve Johnson\n",
            "262        Luis Rojas             5.94          Steve Johnson\n",
            "219        Leonie Köhler          3.96          Steve Johnson\n",
            "198        Helena Holý            3.96          Steve Johnson\n",
            "296        Astrid Gruber          3.96          Steve Johnson\n",
            "275        Alexandre Rocha        3.96          Steve Johnson\n",
            "156        Mark Philips           3.96          Steve Johnson\n",
            "37         Jack Smith             3.96          Steve Johnson\n",
            "16         Kathy Chase            3.96          Steve Johnson\n",
            "408        Victor Stevens         3.96          Steve Johnson\n",
            "289        Julia Barnett          3.96          Steve Johnson\n",
            "170        Martha Silk            3.96          Steve Johnson\n",
            "247        Hannah Schneider       3.96          Steve Johnson\n",
            "324        Marc Dubois            3.96          Steve Johnson\n",
            "86         Lucas Mancini          3.96          Steve Johnson\n",
            "184        Johannes Van der Berg  3.96          Steve Johnson\n",
            "380        Enrique Muñoz          3.96          Steve Johnson\n",
            "65         Joakim Johansson       3.96          Steve Johnson\n",
            "359        Steve Murray           3.96          Steve Johnson\n",
            "240        Luis Rojas             3.96          Steve Johnson\n",
            "1          Leonie Köhler          1.98          Steve Johnson\n",
            "196        Leonie Köhler          1.98          Steve Johnson\n",
            "175        Helena Holý            1.98          Steve Johnson\n",
            "393        Helena Holý            1.98          Steve Johnson\n",
            "78         Astrid Gruber          1.98          Steve Johnson\n",
            "273        Astrid Gruber          1.98          Steve Johnson\n",
            "57         Alexandre Rocha        1.98          Steve Johnson\n",
            "252        Alexandre Rocha        1.98          Steve Johnson\n",
            "133        Mark Philips           1.98          Steve Johnson\n",
            "351        Mark Philips           1.98          Steve Johnson\n",
            "14         Jack Smith             1.98          Steve Johnson\n",
            "232        Jack Smith             1.98          Steve Johnson\n",
            "211        Kathy Chase            1.98          Steve Johnson\n",
            "406        Kathy Chase            1.98          Steve Johnson\n",
            "190        Victor Stevens         1.98          Steve Johnson\n",
            "385        Victor Stevens         1.98          Steve Johnson\n",
            "71         Julia Barnett          1.98          Steve Johnson\n",
            "266        Julia Barnett          1.98          Steve Johnson\n",
            "147        Martha Silk            1.98          Steve Johnson\n",
            "365        Martha Silk            1.98          Steve Johnson\n",
            "29         Hannah Schneider       1.98          Steve Johnson\n",
            "224        Hannah Schneider       1.98          Steve Johnson\n",
            "106        Marc Dubois            1.98          Steve Johnson\n",
            "301        Marc Dubois            1.98          Steve Johnson\n",
            "63         Lucas Mancini          1.98          Steve Johnson\n",
            "281        Lucas Mancini          1.98          Steve Johnson\n",
            "161        Johannes Van der Berg  1.98          Steve Johnson\n",
            "379        Johannes Van der Berg  1.98          Steve Johnson\n",
            "162        Enrique Muñoz          1.98          Steve Johnson\n",
            "357        Enrique Muñoz          1.98          Steve Johnson\n",
            "42         Joakim Johansson       1.98          Steve Johnson\n",
            "260        Joakim Johansson       1.98          Steve Johnson\n",
            "141        Steve Murray           1.98          Steve Johnson\n",
            "336        Steve Murray           1.98          Steve Johnson\n",
            "22         Luis Rojas             1.98          Steve Johnson\n",
            "217        Luis Rojas             1.98          Steve Johnson\n",
            "293        Leonie Köhler          0.99          Steve Johnson\n",
            "272        Helena Holý            0.99          Steve Johnson\n",
            "370        Astrid Gruber          0.99          Steve Johnson\n",
            "349        Alexandre Rocha        0.99          Steve Johnson\n",
            "230        Mark Philips           0.99          Steve Johnson\n",
            "111        Jack Smith             0.99          Steve Johnson\n",
            "90         Kathy Chase            0.99          Steve Johnson\n",
            "69         Victor Stevens         0.99          Steve Johnson\n",
            "363        Julia Barnett          0.99          Steve Johnson\n",
            "244        Martha Silk            0.99          Steve Johnson\n",
            "321        Hannah Schneider       0.99          Steve Johnson\n",
            "398        Marc Dubois            0.99          Steve Johnson\n",
            "160        Lucas Mancini          0.99          Steve Johnson\n",
            "258        Johannes Van der Berg  0.99          Steve Johnson\n",
            "41         Enrique Muñoz          0.99          Steve Johnson\n",
            "139        Joakim Johansson       0.99          Steve Johnson\n",
            "20         Steve Murray           0.99          Steve Johnson\n",
            "314        Luis Rojas             0.99          Steve Johnson\n"
          ]
        }
      ]
    },
    {
      "cell_type": "markdown",
      "source": [
        "### 7 - Total Sales for 2009 - 2013"
      ],
      "metadata": {
        "id": "mTAeIUffqlAQ"
      }
    },
    {
      "cell_type": "markdown",
      "source": [
        "What is the total sales for each year between 2009 - 2013?"
      ],
      "metadata": {
        "id": "1A_VJlfRqrkQ"
      }
    },
    {
      "cell_type": "code",
      "source": [
        "%%script sqlite3 --column --header chinook.db\n",
        "SELECT\n",
        "  strftime('%Y', InvoiceDate) AS Year,\n",
        "  SUM(Total) AS InvoiceTotal\n",
        "FROM\n",
        "  invoices\n",
        "GROUP BY\n",
        "  strftime('%Y', InvoiceDate)"
      ],
      "metadata": {
        "colab": {
          "base_uri": "https://localhost:8080/"
        },
        "id": "59FofOM6r4ck",
        "outputId": "0155a553-b947-4cc3-dfc7-d4cc440355e2"
      },
      "execution_count": null,
      "outputs": [
        {
          "output_type": "stream",
          "name": "stdout",
          "text": [
            "Year  InvoiceTotal\n",
            "----  ------------\n",
            "2009  449.46      \n",
            "2010  481.45      \n",
            "2011  469.58      \n",
            "2012  477.53      \n",
            "2013  450.58      \n"
          ]
        }
      ]
    },
    {
      "cell_type": "code",
      "source": [
        "# Connect to the SQLite database\n",
        "conn = sqlite3.connect('chinook.db')\n",
        "\n",
        "# Execute the SQL query and store the result in a DataFrame\n",
        "df = pd.read_sql_query(\"\"\"\n",
        "  SELECT\n",
        "    strftime('%Y', InvoiceDate) AS Year,\n",
        "    SUM(Total) AS InvoiceTotal\n",
        "  FROM\n",
        "    invoices\n",
        "  GROUP BY\n",
        "    strftime('%Y', InvoiceDate)\n",
        "\"\"\", conn)\n",
        "\n",
        "# Close the database connection\n",
        "conn.close()\n",
        "\n",
        "# Plot a bar graph\n",
        "ax = df.plot(kind='line', x='Year', y='InvoiceTotal', xlabel='Year', ylabel='Total Billing', legend=False, marker='o')\n",
        "ax.legend(loc='center left', bbox_to_anchor=(1, 0.5))\n",
        "plt.show()"
      ],
      "metadata": {
        "colab": {
          "base_uri": "https://localhost:8080/",
          "height": 449
        },
        "id": "0gwk0nsRsUcD",
        "outputId": "eeea72bc-c64a-4aaa-9f25-48bdf158631f"
      },
      "execution_count": null,
      "outputs": [
        {
          "output_type": "display_data",
          "data": {
            "text/plain": [
              "<Figure size 640x480 with 1 Axes>"
            ],
            "image/png": "[encoded data removed]"
          },
          "metadata": {}
        }
      ]
    },
    {
      "cell_type": "markdown",
      "source": [
        "### 8 - Line Items in Each Invoice"
      ],
      "metadata": {
        "id": "dVesCs4fvPL7"
      }
    },
    {
      "cell_type": "markdown",
      "source": [
        "Looking at the InvoiceItems table, provide a query that COUNTs the number of line items for each Invoice."
      ],
      "metadata": {
        "id": "FmwC1GMyvX4i"
      }
    },
    {
      "cell_type": "code",
      "source": [
        "%%script sqlite3 --column --header chinook.db\n",
        "SELECT\n",
        "\tinvoice_items.InvoiceId AS InvoiceId,\n",
        "\tCOUNT(*) AS LineItemCount\n",
        "FROM\n",
        "\tinvoice_items\n",
        "JOIN\n",
        "  invoices ON invoice_items.InvoiceId = invoices.InvoiceId\n",
        "GROUP BY\n",
        "  invoices.InvoiceId"
      ],
      "metadata": {
        "colab": {
          "base_uri": "https://localhost:8080/"
        },
        "id": "-4gzMmFqvXjc",
        "outputId": "e07f65b3-9222-4ab3-cd4c-feb7e0cd6064"
      },
      "execution_count": null,
      "outputs": [
        {
          "output_type": "stream",
          "name": "stdout",
          "text": [
            "InvoiceId  LineItemCount\n",
            "---------  -------------\n",
            "1          2            \n",
            "2          4            \n",
            "3          6            \n",
            "4          9            \n",
            "5          14           \n",
            "6          1            \n",
            "7          2            \n",
            "8          2            \n",
            "9          4            \n",
            "10         6            \n",
            "11         9            \n",
            "12         14           \n",
            "13         1            \n",
            "14         2            \n",
            "15         2            \n",
            "16         4            \n",
            "17         6            \n",
            "18         9            \n",
            "19         14           \n",
            "20         1            \n",
            "21         2            \n",
            "22         2            \n",
            "23         4            \n",
            "24         6            \n",
            "25         9            \n",
            "26         14           \n",
            "27         1            \n",
            "28         2            \n",
            "29         2            \n",
            "30         4            \n",
            "31         6            \n",
            "32         9            \n",
            "33         14           \n",
            "34         1            \n",
            "35         2            \n",
            "36         2            \n",
            "37         4            \n",
            "38         6            \n",
            "39         9            \n",
            "40         14           \n",
            "41         1            \n",
            "42         2            \n",
            "43         2            \n",
            "44         4            \n",
            "45         6            \n",
            "46         9            \n",
            "47         14           \n",
            "48         1            \n",
            "49         2            \n",
            "50         2            \n",
            "51         4            \n",
            "52         6            \n",
            "53         9            \n",
            "54         14           \n",
            "55         1            \n",
            "56         2            \n",
            "57         2            \n",
            "58         4            \n",
            "59         6            \n",
            "60         9            \n",
            "61         14           \n",
            "62         1            \n",
            "63         2            \n",
            "64         2            \n",
            "65         4            \n",
            "66         6            \n",
            "67         9            \n",
            "68         14           \n",
            "69         1            \n",
            "70         2            \n",
            "71         2            \n",
            "72         4            \n",
            "73         6            \n",
            "74         9            \n",
            "75         14           \n",
            "76         1            \n",
            "77         2            \n",
            "78         2            \n",
            "79         4            \n",
            "80         6            \n",
            "81         9            \n",
            "82         14           \n",
            "83         1            \n",
            "84         2            \n",
            "85         2            \n",
            "86         4            \n",
            "87         6            \n",
            "88         9            \n",
            "89         14           \n",
            "90         1            \n",
            "91         2            \n",
            "92         2            \n",
            "93         4            \n",
            "94         6            \n",
            "95         9            \n",
            "96         14           \n",
            "97         1            \n",
            "98         2            \n",
            "99         2            \n",
            "100        4            \n",
            "101        6            \n",
            "102        9            \n",
            "103        14           \n",
            "104        1            \n",
            "105        2            \n",
            "106        2            \n",
            "107        4            \n",
            "108        6            \n",
            "109        9            \n",
            "110        14           \n",
            "111        1            \n",
            "112        2            \n",
            "113        2            \n",
            "114        4            \n",
            "115        6            \n",
            "116        9            \n",
            "117        14           \n",
            "118        1            \n",
            "119        2            \n",
            "120        2            \n",
            "121        4            \n",
            "122        6            \n",
            "123        9            \n",
            "124        14           \n",
            "125        1            \n",
            "126        2            \n",
            "127        2            \n",
            "128        4            \n",
            "129        6            \n",
            "130        9            \n",
            "131        14           \n",
            "132        1            \n",
            "133        2            \n",
            "134        2            \n",
            "135        4            \n",
            "136        6            \n",
            "137        9            \n",
            "138        14           \n",
            "139        1            \n",
            "140        2            \n",
            "141        2            \n",
            "142        4            \n",
            "143        6            \n",
            "144        9            \n",
            "145        14           \n",
            "146        1            \n",
            "147        2            \n",
            "148        2            \n",
            "149        4            \n",
            "150        6            \n",
            "151        9            \n",
            "152        14           \n",
            "153        1            \n",
            "154        2            \n",
            "155        2            \n",
            "156        4            \n",
            "157        6            \n",
            "158        9            \n",
            "159        14           \n",
            "160        1            \n",
            "161        2            \n",
            "162        2            \n",
            "163        4            \n",
            "164        6            \n",
            "165        9            \n",
            "166        14           \n",
            "167        1            \n",
            "168        2            \n",
            "169        2            \n",
            "170        4            \n",
            "171        6            \n",
            "172        9            \n",
            "173        14           \n",
            "174        1            \n",
            "175        2            \n",
            "176        2            \n",
            "177        4            \n",
            "178        6            \n",
            "179        9            \n",
            "180        14           \n",
            "181        1            \n",
            "182        2            \n",
            "183        2            \n",
            "184        4            \n",
            "185        6            \n",
            "186        9            \n",
            "187        14           \n",
            "188        1            \n",
            "189        2            \n",
            "190        2            \n",
            "191        4            \n",
            "192        6            \n",
            "193        9            \n",
            "194        14           \n",
            "195        1            \n",
            "196        2            \n",
            "197        2            \n",
            "198        4            \n",
            "199        6            \n",
            "200        9            \n",
            "201        14           \n",
            "202        1            \n",
            "203        2            \n",
            "204        2            \n",
            "205        4            \n",
            "206        6            \n",
            "207        9            \n",
            "208        14           \n",
            "209        1            \n",
            "210        2            \n",
            "211        2            \n",
            "212        4            \n",
            "213        6            \n",
            "214        9            \n",
            "215        14           \n",
            "216        1            \n",
            "217        2            \n",
            "218        2            \n",
            "219        4            \n",
            "220        6            \n",
            "221        9            \n",
            "222        14           \n",
            "223        1            \n",
            "224        2            \n",
            "225        2            \n",
            "226        4            \n",
            "227        6            \n",
            "228        9            \n",
            "229        14           \n",
            "230        1            \n",
            "231        2            \n",
            "232        2            \n",
            "233        4            \n",
            "234        6            \n",
            "235        9            \n",
            "236        14           \n",
            "237        1            \n",
            "238        2            \n",
            "239        2            \n",
            "240        4            \n",
            "241        6            \n",
            "242        9            \n",
            "243        14           \n",
            "244        1            \n",
            "245        2            \n",
            "246        2            \n",
            "247        4            \n",
            "248        6            \n",
            "249        9            \n",
            "250        14           \n",
            "251        1            \n",
            "252        2            \n",
            "253        2            \n",
            "254        4            \n",
            "255        6            \n",
            "256        9            \n",
            "257        14           \n",
            "258        1            \n",
            "259        2            \n",
            "260        2            \n",
            "261        4            \n",
            "262        6            \n",
            "263        9            \n",
            "264        14           \n",
            "265        1            \n",
            "266        2            \n",
            "267        2            \n",
            "268        4            \n",
            "269        6            \n",
            "270        9            \n",
            "271        14           \n",
            "272        1            \n",
            "273        2            \n",
            "274        2            \n",
            "275        4            \n",
            "276        6            \n",
            "277        9            \n",
            "278        14           \n",
            "279        1            \n",
            "280        2            \n",
            "281        2            \n",
            "282        4            \n",
            "283        6            \n",
            "284        9            \n",
            "285        14           \n",
            "286        1            \n",
            "287        2            \n",
            "288        2            \n",
            "289        4            \n",
            "290        6            \n",
            "291        9            \n",
            "292        14           \n",
            "293        1            \n",
            "294        2            \n",
            "295        2            \n",
            "296        4            \n",
            "297        6            \n",
            "298        9            \n",
            "299        14           \n",
            "300        1            \n",
            "301        2            \n",
            "302        2            \n",
            "303        4            \n",
            "304        6            \n",
            "305        9            \n",
            "306        14           \n",
            "307        1            \n",
            "308        2            \n",
            "309        2            \n",
            "310        4            \n",
            "311        6            \n",
            "312        9            \n",
            "313        14           \n",
            "314        1            \n",
            "315        2            \n",
            "316        2            \n",
            "317        4            \n",
            "318        6            \n",
            "319        9            \n",
            "320        14           \n",
            "321        1            \n",
            "322        2            \n",
            "323        2            \n",
            "324        4            \n",
            "325        6            \n",
            "326        9            \n",
            "327        14           \n",
            "328        1            \n",
            "329        2            \n",
            "330        2            \n",
            "331        4            \n",
            "332        6            \n",
            "333        9            \n",
            "334        14           \n",
            "335        1            \n",
            "336        2            \n",
            "337        2            \n",
            "338        4            \n",
            "339        6            \n",
            "340        9            \n",
            "341        14           \n",
            "342        1            \n",
            "343        2            \n",
            "344        2            \n",
            "345        4            \n",
            "346        6            \n",
            "347        9            \n",
            "348        14           \n",
            "349        1            \n",
            "350        2            \n",
            "351        2            \n",
            "352        4            \n",
            "353        6            \n",
            "354        9            \n",
            "355        14           \n",
            "356        1            \n",
            "357        2            \n",
            "358        2            \n",
            "359        4            \n",
            "360        6            \n",
            "361        9            \n",
            "362        14           \n",
            "363        1            \n",
            "364        2            \n",
            "365        2            \n",
            "366        4            \n",
            "367        6            \n",
            "368        9            \n",
            "369        14           \n",
            "370        1            \n",
            "371        2            \n",
            "372        2            \n",
            "373        4            \n",
            "374        6            \n",
            "375        9            \n",
            "376        14           \n",
            "377        1            \n",
            "378        2            \n",
            "379        2            \n",
            "380        4            \n",
            "381        6            \n",
            "382        9            \n",
            "383        14           \n",
            "384        1            \n",
            "385        2            \n",
            "386        2            \n",
            "387        4            \n",
            "388        6            \n",
            "389        9            \n",
            "390        14           \n",
            "391        1            \n",
            "392        2            \n",
            "393        2            \n",
            "394        4            \n",
            "395        6            \n",
            "396        9            \n",
            "397        14           \n",
            "398        1            \n",
            "399        2            \n",
            "400        2            \n",
            "401        4            \n",
            "402        6            \n",
            "403        9            \n",
            "404        14           \n",
            "405        1            \n",
            "406        2            \n",
            "407        2            \n",
            "408        4            \n",
            "409        6            \n",
            "410        9            \n",
            "411        14           \n",
            "412        1            \n"
          ]
        }
      ]
    },
    {
      "cell_type": "markdown",
      "source": [
        "### 9 - Sales Per Genre"
      ],
      "metadata": {
        "id": "uIcmGJcxwyni"
      }
    },
    {
      "cell_type": "markdown",
      "source": [
        "Provide a query that shows total sales per genre."
      ],
      "metadata": {
        "id": "2M-Z3TQ6xMu8"
      }
    },
    {
      "cell_type": "code",
      "source": [
        "%%script sqlite3 --column --header chinook.db\n",
        "WITH track_billing AS (\n",
        "    SELECT\n",
        "        tracks.GenreId,\n",
        "        ROUND(SUM(invoice_items.UnitPrice * invoice_items.Quantity), 2) AS GenreBilling\n",
        "    FROM\n",
        "        tracks\n",
        "    JOIN\n",
        "        invoice_items ON tracks.TrackId = invoice_items.TrackId\n",
        "    GROUP BY\n",
        "        tracks.GenreId\n",
        "),\n",
        "genre_names AS (\n",
        "    SELECT\n",
        "        GenreId,\n",
        "        Name AS Genre\n",
        "    FROM\n",
        "        genres\n",
        ")\n",
        "SELECT\n",
        "    genre_names.Genre,\n",
        "    COALESCE(track_billing.GenreBilling, 0) AS TotalBilling\n",
        "FROM\n",
        "    genre_names\n",
        "LEFT JOIN\n",
        "    track_billing  ON genre_names.GenreId = track_billing.GenreId\n",
        "ORDER BY\n",
        "    TotalBilling DESC"
      ],
      "metadata": {
        "id": "6qP2ereExWrF",
        "colab": {
          "base_uri": "https://localhost:8080/"
        },
        "outputId": "818183e6-ed21-4a5a-d5e3-d1cf6c7fafa8"
      },
      "execution_count": null,
      "outputs": [
        {
          "output_type": "stream",
          "name": "stdout",
          "text": [
            "Genre               TotalBilling\n",
            "------------------  ------------\n",
            "Rock                826.65      \n",
            "Latin               382.14      \n",
            "Metal               261.36      \n",
            "Alternative & Punk  241.56      \n",
            "TV Shows            93.53       \n",
            "Jazz                79.2        \n",
            "Blues               60.39       \n",
            "Drama               57.71       \n",
            "R&B/Soul            40.59       \n",
            "Classical           40.59       \n",
            "Sci Fi & Fantasy    39.8        \n",
            "Reggae              29.7        \n",
            "Pop                 27.72       \n",
            "Soundtrack          19.8        \n",
            "Comedy              17.91       \n",
            "Hip Hop/Rap         16.83       \n",
            "Bossa Nova          14.85       \n",
            "Alternative         13.86       \n",
            "World               12.87       \n",
            "Science Fiction     11.94       \n",
            "Heavy Metal         11.88       \n",
            "Electronica/Dance   11.88       \n",
            "Easy Listening      9.9         \n",
            "Rock And Roll       5.94        \n",
            "Opera               0           \n"
          ]
        }
      ]
    },
    {
      "cell_type": "markdown",
      "source": [
        "### 10 - Sales Agent Workload"
      ],
      "metadata": {
        "id": "ZwQegE7PxW9p"
      }
    },
    {
      "cell_type": "markdown",
      "source": [
        "Provide a query that shows the # of customers assigned to each sales agent."
      ],
      "metadata": {
        "id": "2WXsAa8Qx7T5"
      }
    },
    {
      "cell_type": "code",
      "source": [
        "%%script sqlite3 --column --header chinook.db\n",
        "SELECT\n",
        "    employees.FirstName || ' ' || employees.LastName AS SalesRepName,\n",
        "    COUNT(customers.CustomerId) AS NumberOfCustomers\n",
        "FROM\n",
        "    employees\n",
        "LEFT JOIN\n",
        "    customers ON employees.EmployeeId = customers.SupportRepId\n",
        "WHERE\n",
        "    employees.Title = 'Sales Support Agent'\n",
        "GROUP BY\n",
        "    employees.FirstName, employees.LastName\n",
        "ORDER BY\n",
        "    NumberOfCustomers DESC"
      ],
      "metadata": {
        "id": "YM9HUYfex7u6",
        "colab": {
          "base_uri": "https://localhost:8080/"
        },
        "outputId": "9ab93404-aefc-4724-cbb2-4feb52c1e5de"
      },
      "execution_count": null,
      "outputs": [
        {
          "output_type": "stream",
          "name": "stdout",
          "text": [
            "SalesRepName   NumberOfCustomers\n",
            "-------------  -----------------\n",
            "Jane Peacock   21               \n",
            "Margaret Park  20               \n",
            "Steve Johnson  18               \n"
          ]
        }
      ]
    },
    {
      "cell_type": "markdown",
      "source": [
        "### 11 - Best Sales Agent Per Year"
      ],
      "metadata": {
        "id": "9zCvfLp1yKyA"
      }
    },
    {
      "cell_type": "markdown",
      "source": [
        "Which sales agent made the most in sales in each year?"
      ],
      "metadata": {
        "id": "gtUUlTFgyO4j"
      }
    },
    {
      "cell_type": "code",
      "source": [
        "%%script sqlite3 --column --header chinook.db\n",
        "WITH sales_data AS (\n",
        "    SELECT\n",
        "        employees.FirstName || ' ' || employees.LastName AS SalesRepName,\n",
        "        strftime('%Y', invoices.InvoiceDate) AS Year,\n",
        "        SUM(invoices.Total) AS TotalBilling\n",
        "    FROM\n",
        "        employees\n",
        "    LEFT JOIN\n",
        "        customers ON employees.EmployeeId = customers.SupportRepId\n",
        "    LEFT JOIN\n",
        "        invoices ON customers.CustomerId = invoices.CustomerId\n",
        "    WHERE\n",
        "        employees.Title = 'Sales Support Agent'\n",
        "    GROUP BY\n",
        "        Year, SalesRepName\n",
        ")\n",
        "SELECT\n",
        "    Year,\n",
        "    SalesRepName,\n",
        "    MAX(TotalBilling) AS MaxTotalBilling\n",
        "FROM\n",
        "    sales_data\n",
        "GROUP BY\n",
        "    Year"
      ],
      "metadata": {
        "id": "JixgKggeyPRF",
        "colab": {
          "base_uri": "https://localhost:8080/"
        },
        "outputId": "0a907f6a-0f26-4fdc-a08f-619d258a7453"
      },
      "execution_count": null,
      "outputs": [
        {
          "output_type": "stream",
          "name": "stdout",
          "text": [
            "Year  SalesRepName   MaxTotalBilling\n",
            "----  -------------  ---------------\n",
            "2009  Steve Johnson  164.34         \n",
            "2010  Jane Peacock   221.92         \n",
            "2011  Jane Peacock   184.34         \n",
            "2012  Margaret Park  197.2          \n",
            "2013  Margaret Park  168.3          \n"
          ]
        }
      ]
    },
    {
      "cell_type": "markdown",
      "source": [
        "### 12 - Top 3 Best Selling Albums"
      ],
      "metadata": {
        "id": "J-CV3mRGyWIS"
      }
    },
    {
      "cell_type": "markdown",
      "source": [
        "Provide a query that shows the top 3 best selling albums."
      ],
      "metadata": {
        "id": "Z82dcWZvyYul"
      }
    },
    {
      "cell_type": "code",
      "source": [
        "%%script sqlite3 --column --header chinook.db\n",
        "SELECT\n",
        "    albums.Title AS AlbumTitle,\n",
        "    ROUND(SUM(invoice_items.UnitPrice * invoice_items.Quantity), 2) AS TotalBilling\n",
        "FROM\n",
        "  albums\n",
        "INNER JOIN\n",
        "    tracks ON albums.AlbumId = tracks.AlbumId\n",
        "INNER JOIN\n",
        "    invoice_items ON tracks.TrackId = invoice_items.TrackId\n",
        "GROUP BY\n",
        "    albums.AlbumId\n",
        "ORDER BY\n",
        "    TotalBilling DESC\n",
        "LIMIT 3"
      ],
      "metadata": {
        "id": "ltzKZvuc1FmF",
        "colab": {
          "base_uri": "https://localhost:8080/"
        },
        "outputId": "8faa1dbb-bd48-496a-ffe0-fc679ce1a773"
      },
      "execution_count": null,
      "outputs": [
        {
          "output_type": "stream",
          "name": "stdout",
          "text": [
            "AlbumTitle                                TotalBilling\n",
            "----------------------------------------  ------------\n",
            "Battlestar Galactica (Classic), Season 1  35.82       \n",
            "The Office, Season 3                      31.84       \n",
            "Minha Historia                            26.73       \n"
          ]
        }
      ]
    },
    {
      "cell_type": "markdown",
      "source": [
        "### 13 - Top 3 Best Selling Artists"
      ],
      "metadata": {
        "id": "6S8vf1yv1F3x"
      }
    },
    {
      "cell_type": "markdown",
      "source": [
        "Provide a query that shows the top 3 best selling artists."
      ],
      "metadata": {
        "id": "OZZzj3KU1MBx"
      }
    },
    {
      "cell_type": "code",
      "source": [
        "%%script sqlite3 --column --header chinook.db\n",
        "SELECT\n",
        "    artists.Name AS ArtistName,\n",
        "    ROUND(SUM(invoice_items.UnitPrice * invoice_items.Quantity), 2) AS TotalBilling\n",
        "FROM\n",
        "    artists\n",
        "INNER JOIN\n",
        "    albums ON artists.ArtistId = albums.ArtistId\n",
        "INNER JOIN\n",
        "    tracks ON albums.AlbumId = tracks.AlbumId\n",
        "INNER JOIN\n",
        "    invoice_items ON tracks.TrackId = invoice_items.TrackId\n",
        "GROUP BY\n",
        "    artists.ArtistId\n",
        "ORDER BY\n",
        "    TotalBilling DESC\n",
        "LIMIT 3"
      ],
      "metadata": {
        "id": "k5gJdOir1May",
        "colab": {
          "base_uri": "https://localhost:8080/"
        },
        "outputId": "8145b059-64c4-494f-af4d-3c2838cac605"
      },
      "execution_count": null,
      "outputs": [
        {
          "output_type": "stream",
          "name": "stdout",
          "text": [
            "ArtistName   TotalBilling\n",
            "-----------  ------------\n",
            "Iron Maiden  138.6       \n",
            "U2           105.93      \n",
            "Metallica    90.09       \n"
          ]
        }
      ]
    }
  ]
}